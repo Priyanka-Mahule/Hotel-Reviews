{
 "cells": [
  {
   "cell_type": "code",
   "execution_count": 2,
   "id": "7a01cf81",
   "metadata": {},
   "outputs": [],
   "source": [
    "\"\"\"This python file in created by -Priyanka Mahule [21-09-2022]\"\"\"\n",
    "\n",
    "\n",
    "# Importing the libraries\n",
    "import streamlit as st\n",
    "import pickle\n",
    "import spacy\n",
    "# import numpy as np\n",
    "# from sklearn.svm import SVC\n",
    "from sklearn.feature_extraction.text import TfidfVectorizer\n",
    "\n",
    "\n",
    "# Body of the application\n",
    "st.header(\"Hotel Review Prediction Application.\")\n",
    "st.markdown(\"This application is trained on machine learning model.\\n \"\n",
    "            \"This application can predict if the given **review**\"\n",
    "            \" is **Positive, Negative or Neutral**\")\n",
    "\n",
    "\n",
    "text = st.text_input(\"Type your review here...\", \"\"\"\"\"\")\n",
    "\n",
    "\n",
    "# Working on prediction\n",
    "# Loading trained model\n",
    "loaded_model = pickle.load(\n",
    "    open(\"C:/Users/ADMIN/Downloads/svc_model_fitted (1).pickle\", \"rb\"))\n",
    "\n",
    "\n",
    "# Preprocessing the text\n",
    "nlp = spacy.load(\"en_core_web_sm\")"
   ]
  },
  {
   "cell_type": "code",
   "execution_count": 3,
   "id": "bed0bb78",
   "metadata": {},
   "outputs": [],
   "source": [
    "def preprocessing(text):\n",
    "    \"\"\"Takes the text input and removes the stop words and punctuations from the text and gives processed text output.\n",
    "    \"\"\"\n",
    "    global nlp\n",
    "    doc = nlp(text)\n",
    "\n",
    "    filtered_tokens = []\n",
    "    for token in doc:\n",
    "        if token.is_stop or token.is_punct:\n",
    "            continue\n",
    "        filtered_tokens.append(token.lemma_)\n",
    "\n",
    "    return \" \".join(filtered_tokens)\n",
    "\n",
    "\n",
    "preprocessed_input = [preprocessing(text)]\n",
    "st.write(preprocessed_input)\n",
    "\n",
    "# Tfidf\n",
    "\n",
    "\n",
    "# Making prediction\n",
    "if st.button(\"Click to make prediction\"):\n",
    "\n",
    "    # Making prediction for model input\n",
    "    prediction = int(loaded_model.predict(preprocessed_input))\n",
    "    st.write(prediction)\n",
    "\n",
    "    # Returning true prediction\n",
    "    if prediction == -1:\n",
    "        st.write(\"Negative\")\n",
    "    elif prediction == 1:\n",
    "        st.write(\"Positive\")\n",
    "    else:\n",
    "        st.write(\"Neutral\")\n",
    "else:\n",
    "    pass"
   ]
  },
  {
   "cell_type": "code",
   "execution_count": null,
   "id": "3f7688b4",
   "metadata": {},
   "outputs": [],
   "source": []
  }
 ],
 "metadata": {
  "kernelspec": {
   "display_name": "Python 3 (ipykernel)",
   "language": "python",
   "name": "python3"
  },
  "language_info": {
   "codemirror_mode": {
    "name": "ipython",
    "version": 3
   },
   "file_extension": ".py",
   "mimetype": "text/x-python",
   "name": "python",
   "nbconvert_exporter": "python",
   "pygments_lexer": "ipython3",
   "version": "3.9.7"
  }
 },
 "nbformat": 4,
 "nbformat_minor": 5
}
